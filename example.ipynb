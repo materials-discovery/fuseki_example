{
 "cells": [
  {
   "cell_type": "markdown",
   "id": "3953a5bf",
   "metadata": {},
   "source": [
    "# Fuseki Example "
   ]
  },
  {
   "cell_type": "markdown",
   "id": "6ce5f5fc",
   "metadata": {},
   "source": [
    "### Example of storing RDF data in a Fuseki backend "
   ]
  },
  {
   "cell_type": "code",
   "execution_count": 12,
   "id": "7d569bd6",
   "metadata": {},
   "outputs": [
    {
     "ename": "ModuleNotFoundError",
     "evalue": "No module named 'httpx'",
     "output_type": "error",
     "traceback": [
      "\u001B[0;31m---------------------------------------------------------------------------\u001B[0m",
      "\u001B[0;31mModuleNotFoundError\u001B[0m                       Traceback (most recent call last)",
      "Cell \u001B[0;32mIn[12], line 3\u001B[0m\n\u001B[1;32m      1\u001B[0m \u001B[38;5;28;01mimport\u001B[39;00m \u001B[38;5;21;01msys\u001B[39;00m\n\u001B[1;32m      2\u001B[0m sys\u001B[38;5;241m.\u001B[39mpath\u001B[38;5;241m.\u001B[39mappend(\u001B[38;5;124m\"\u001B[39m\u001B[38;5;124m../fuseki.py\u001B[39m\u001B[38;5;124m\"\u001B[39m)\n\u001B[0;32m----> 3\u001B[0m \u001B[38;5;28;01mfrom\u001B[39;00m \u001B[38;5;21;01mfuseki\u001B[39;00m \u001B[38;5;28;01mimport\u001B[39;00m query_data_from_fuseki, sparql_query, upload_to_dataset, create_fuseki_dataset\n",
      "File \u001B[0;32m~/Documents/GitHub/materials_discovery/fuseki_example/fuseki.py:2\u001B[0m\n\u001B[1;32m      1\u001B[0m \u001B[38;5;28;01mimport\u001B[39;00m \u001B[38;5;21;01mrequests\u001B[39;00m\n\u001B[0;32m----> 2\u001B[0m \u001B[38;5;28;01mimport\u001B[39;00m \u001B[38;5;21;01mhttpx\u001B[39;00m\n\u001B[1;32m      3\u001B[0m \u001B[38;5;28;01mfrom\u001B[39;00m \u001B[38;5;21;01mSPARQLWrapper\u001B[39;00m \u001B[38;5;28;01mimport\u001B[39;00m SPARQLWrapper, JSON\n\u001B[1;32m      5\u001B[0m \u001B[38;5;124;03m\"\"\"\u001B[39;00m\n\u001B[1;32m      6\u001B[0m \u001B[38;5;124;03mScripts for creating, managing, and retrieving data from Fuseki DB\u001B[39;00m\n\u001B[1;32m      7\u001B[0m \n\u001B[1;32m      8\u001B[0m \u001B[38;5;124;03m \"\"\"\u001B[39;00m\n",
      "\u001B[0;31mModuleNotFoundError\u001B[0m: No module named 'httpx'"
     ]
    }
   ],
   "source": [
    "from fuseki import query_data_from_fuseki, sparql_query, upload_to_dataset, create_fuseki_dataset"
   ]
  },
  {
   "cell_type": "markdown",
   "id": "d1ea798c",
   "metadata": {},
   "source": [
    "Firstly, create a new Fuseki dataset "
   ]
  },
  {
   "cell_type": "code",
   "execution_count": 9,
   "id": "2d261b74",
   "metadata": {},
   "outputs": [
    {
     "ename": "NameError",
     "evalue": "name 'create_fuseki_dataset' is not defined",
     "output_type": "error",
     "traceback": [
      "\u001B[0;31m---------------------------------------------------------------------------\u001B[0m",
      "\u001B[0;31mNameError\u001B[0m                                 Traceback (most recent call last)",
      "Cell \u001B[0;32mIn[9], line 4\u001B[0m\n\u001B[1;32m      2\u001B[0m dataset_name \u001B[38;5;241m=\u001B[39m \u001B[38;5;124m\"\u001B[39m\u001B[38;5;124mtest_ds\u001B[39m\u001B[38;5;124m\"\u001B[39m  \u001B[38;5;66;03m# Replace with the name of your existing dataset\u001B[39;00m\n\u001B[1;32m      3\u001B[0m ttl_file_path \u001B[38;5;241m=\u001B[39m \u001B[38;5;124m\"\u001B[39m\u001B[38;5;124mdata.ttl\u001B[39m\u001B[38;5;124m\"\u001B[39m\n\u001B[0;32m----> 4\u001B[0m create_database \u001B[38;5;241m=\u001B[39m \u001B[43mcreate_fuseki_dataset\u001B[49m(fuseki_url, dataset_name)\n\u001B[1;32m      5\u001B[0m add_data \u001B[38;5;241m=\u001B[39m upload_to_dataset(fuseki_url, dataset_name, ttl_file_path)\n",
      "\u001B[0;31mNameError\u001B[0m: name 'create_fuseki_dataset' is not defined"
     ]
    }
   ],
   "source": [
    "fuseki_url = \"http://localhost:3030\"\n",
    "dataset_name = \"test_ds\"  # Replace with the name of your existing dataset\n",
    "create_database = create_fuseki_dataset(fuseki_url, dataset_name)\n"
   ]
  },
  {
   "cell_type": "markdown",
   "id": "e530d7a5",
   "metadata": {},
   "source": [
    "Now let's upload some data to the created dataset"
   ]
  },
  {
   "cell_type": "code",
   "execution_count": 13,
   "id": "6eae0142",
   "metadata": {},
   "outputs": [
    {
     "ename": "NameError",
     "evalue": "name 'upload_to_dataset' is not defined",
     "output_type": "error",
     "traceback": [
      "\u001B[0;31m---------------------------------------------------------------------------\u001B[0m",
      "\u001B[0;31mNameError\u001B[0m                                 Traceback (most recent call last)",
      "Cell \u001B[0;32mIn[13], line 1\u001B[0m\n\u001B[0;32m----> 1\u001B[0m add_data \u001B[38;5;241m=\u001B[39m \u001B[43mupload_to_dataset\u001B[49m(fuseki_url, dataset_name, ttl_file_path)\n",
      "\u001B[0;31mNameError\u001B[0m: name 'upload_to_dataset' is not defined"
     ]
    }
   ],
   "source": [
    "ttl_file_path = \"data.ttl\"\n",
    "add_data = upload_to_dataset(fuseki_url, dataset_name, ttl_file_path)"
   ]
  },
  {
   "cell_type": "markdown",
   "id": "a1f34433",
   "metadata": {},
   "source": [
    "now that we've sucessfully added to data to fuseki, let's retreive that data "
   ]
  },
  {
   "cell_type": "code",
   "execution_count": 16,
   "id": "f756a0dd",
   "metadata": {},
   "outputs": [
    {
     "ename": "SyntaxError",
     "evalue": "unterminated string literal (detected at line 1) (1745623278.py, line 1)",
     "output_type": "error",
     "traceback": [
      "\u001B[0;36m  Cell \u001B[0;32mIn[16], line 1\u001B[0;36m\u001B[0m\n\u001B[0;31m    query_url = \"http://localhost:3030/ds1/query\u001B[0m\n\u001B[0m                ^\u001B[0m\n\u001B[0;31mSyntaxError\u001B[0m\u001B[0;31m:\u001B[0m unterminated string literal (detected at line 1)\n"
     ]
    }
   ],
   "source": [
    "query_url = \"http://localhost:3030/ds1/query\n",
    "\n",
    "query = \"\"\"\n",
    "    SELECT ?s ?p ?o\n",
    "    WHERE {\n",
    "        ?s a owl:Class .\n",
    "        FILTER NOT EXISTS {\n",
    "    ?s rdfs:subClassOf ?superclass .\n",
    "  }\n",
    "      ?s ?p ?o .\n",
    "    }\n",
    "\"\"\"\n",
    "\n",
    "results = query_data_from_fuseki(fuseki_url, query)\n",
    "for row in results:\n",
    "    print(row)"
   ]
  },
  {
   "cell_type": "code",
   "execution_count": null,
   "id": "62b94a12",
   "metadata": {},
   "outputs": [],
   "source": [
    "T"
   ]
  }
 ],
 "metadata": {
  "kernelspec": {
   "display_name": "Python 3 (ipykernel)",
   "language": "python",
   "name": "python3"
  },
  "language_info": {
   "codemirror_mode": {
    "name": "ipython",
    "version": 3
   },
   "file_extension": ".py",
   "mimetype": "text/x-python",
   "name": "python",
   "nbconvert_exporter": "python",
   "pygments_lexer": "ipython3",
   "version": "3.10.11"
  }
 },
 "nbformat": 4,
 "nbformat_minor": 5
}
