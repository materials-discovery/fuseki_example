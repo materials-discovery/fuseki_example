{
 "cells": [
  {
   "cell_type": "markdown",
   "id": "3953a5bf",
   "metadata": {},
   "source": [
    "# Fuseki Example "
   ]
  },
  {
   "cell_type": "markdown",
   "id": "6ce5f5fc",
   "metadata": {},
   "source": [
    "### Example of storing RDF data in a Fuseki backend "
   ]
  },
  {
   "cell_type": "code",
   "execution_count": 40,
   "id": "7d569bd6",
   "metadata": {
    "ExecuteTime": {
     "end_time": "2024-01-18T12:35:09.049445Z",
     "start_time": "2024-01-18T12:35:09.045312Z"
    }
   },
   "outputs": [],
   "source": [
    "from fuseki import upload_to_dataset, create_fuseki_dataset\n",
    "import requests"
   ]
  },
  {
   "cell_type": "markdown",
   "id": "d1ea798c",
   "metadata": {},
   "source": [
    "Firstly, create a new Fuseki dataset "
   ]
  },
  {
   "cell_type": "code",
   "execution_count": 41,
   "id": "2d261b74",
   "metadata": {
    "ExecuteTime": {
     "end_time": "2024-01-18T12:35:09.672119Z",
     "start_time": "2024-01-18T12:35:09.448788Z"
    }
   },
   "outputs": [
    {
     "name": "stdout",
     "output_type": "stream",
     "text": [
      "Dataset 'test_ds' created successfully.\n"
     ]
    }
   ],
   "source": [
    "fuseki_url = \"http://localhost:3030\"\n",
    "dataset_name = \"test_ds\"  # Replace with the name of your existing dataset\n",
    "create_database = create_fuseki_dataset(fuseki_url, dataset_name)\n"
   ]
  },
  {
   "cell_type": "markdown",
   "id": "e530d7a5",
   "metadata": {},
   "source": [
    "Now let's upload some data to the created dataset"
   ]
  },
  {
   "cell_type": "code",
   "execution_count": 42,
   "id": "6eae0142",
   "metadata": {
    "ExecuteTime": {
     "end_time": "2024-01-18T12:35:09.924296Z",
     "start_time": "2024-01-18T12:35:09.850518Z"
    }
   },
   "outputs": [
    {
     "name": "stdout",
     "output_type": "stream",
     "text": [
      "Data uploaded to dataset 'test_ds' successfully.\n"
     ]
    }
   ],
   "source": [
    "ttl_file_path = \"data.ttl\"\n",
    "add_data = upload_to_dataset(fuseki_url, dataset_name, ttl_file_path)"
   ]
  },
  {
   "cell_type": "markdown",
   "id": "a1f34433",
   "metadata": {},
   "source": [
    "now that we've successfully added to data to fuseki, let's retrieve that data"
   ]
  },
  {
   "cell_type": "code",
   "execution_count": 43,
   "id": "f756a0dd",
   "metadata": {
    "ExecuteTime": {
     "end_time": "2024-01-18T12:35:10.301007Z",
     "start_time": "2024-01-18T12:35:10.258329Z"
    }
   },
   "outputs": [
    {
     "name": "stdout",
     "output_type": "stream",
     "text": [
      "Dataset: http://example.com/dataset/1, Value: 8.077447e+00\n",
      "Dataset: http://example.com/dataset/10, Value: 4.351884e+00\n",
      "Dataset: http://example.com/dataset/2, Value: 6.619834e+00\n",
      "Dataset: http://example.com/dataset/3, Value: 2.019491e+00\n",
      "Dataset: http://example.com/dataset/4, Value: 3.175639e+00\n",
      "Dataset: http://example.com/dataset/5, Value: 6.029746e+00\n",
      "Dataset: http://example.com/dataset/6, Value: 4.316173e+00\n",
      "Dataset: http://example.com/dataset/7, Value: 9.117797e+00\n",
      "Dataset: http://example.com/dataset/8, Value: 4.83214e+00\n",
      "Dataset: http://example.com/dataset/9, Value: 1.901588e+00\n"
     ]
    }
   ],
   "source": [
    "query_url = \"http://localhost:3030/test_ds/query\"\n",
    "\n",
    "query = \"\"\"\n",
    "    PREFIX domeES: <http://dome40.eu/semantics/dome4.0_core#>\n",
    "    SELECT ?dataset ?value\n",
    "    WHERE {\n",
    "        ?dataset domeES:hasPart ?data .\n",
    "        ?data domeES:hasValue ?value .\n",
    "    }\n",
    "\"\"\"\n",
    "\n",
    "# Prepare the query parameters\n",
    "params = {\n",
    "    'query': query,\n",
    "    'format': 'json'  # You can adjust the format based on your preference (json, xml, etc.)\n",
    "}\n",
    "\n",
    "# Send the POST request to execute the query\n",
    "response = requests.post(query_url, data=params)\n",
    "\n",
    "# Check if the request was successful (status code 200)\n",
    "if response.status_code == 200:\n",
    "    # Parse the JSON response\n",
    "    result = response.json()\n",
    "\n",
    "    # Access the query results as needed\n",
    "    for binding in result['results']['bindings']:\n",
    "        dataset = binding['dataset']['value']\n",
    "        value = binding['value']['value']\n",
    "        print(f\"Dataset: {dataset}, Value: {value}\")\n",
    "else:\n",
    "    print(f\"Failed to execute SPARQL query. Status code: {response.status_code}\")\n",
    "    print(f\"Error message: {response.text}\")"
   ]
  },
  {
   "cell_type": "markdown",
   "source": [
    "That's it! We can now create a dataset and upload and retrieve data from it\n"
   ],
   "metadata": {
    "collapsed": false
   }
  },
  {
   "cell_type": "code",
   "execution_count": 43,
   "outputs": [],
   "source": [],
   "metadata": {
    "collapsed": false,
    "ExecuteTime": {
     "end_time": "2024-01-18T12:35:10.690529Z",
     "start_time": "2024-01-18T12:35:10.687059Z"
    }
   }
  },
  {
   "cell_type": "code",
   "execution_count": 38,
   "outputs": [],
   "source": [],
   "metadata": {
    "collapsed": false,
    "ExecuteTime": {
     "end_time": "2024-01-18T12:34:55.613450Z",
     "start_time": "2024-01-18T12:34:55.607574Z"
    }
   }
  },
  {
   "cell_type": "code",
   "execution_count": null,
   "outputs": [],
   "source": [],
   "metadata": {
    "collapsed": false
   }
  }
 ],
 "metadata": {
  "kernelspec": {
   "display_name": "Python 3 (ipykernel)",
   "language": "python",
   "name": "python3"
  },
  "language_info": {
   "codemirror_mode": {
    "name": "ipython",
    "version": 3
   },
   "file_extension": ".py",
   "mimetype": "text/x-python",
   "name": "python",
   "nbconvert_exporter": "python",
   "pygments_lexer": "ipython3",
   "version": "3.10.11"
  }
 },
 "nbformat": 4,
 "nbformat_minor": 5
}
